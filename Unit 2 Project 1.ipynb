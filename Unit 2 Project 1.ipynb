{
 "cells": [
  {
   "cell_type": "code",
   "execution_count": 102,
   "metadata": {},
   "outputs": [
    {
     "name": "stdout",
     "output_type": "stream",
     "text": [
      "             Timestamp  Age  Gender         Country state self_employed  \\\n",
      "0  2014-08-27 11:29:31   37  Female   United States    IL           NaN   \n",
      "1  2014-08-27 11:29:37   44       M   United States    IN           NaN   \n",
      "2  2014-08-27 11:29:44   32    Male          Canada   NaN           NaN   \n",
      "3  2014-08-27 11:29:46   31    Male  United Kingdom   NaN           NaN   \n",
      "4  2014-08-27 11:30:22   31    Male   United States    TX           NaN   \n",
      "\n",
      "  family_history treatment work_interfere    no_employees   ...     \\\n",
      "0             No       Yes          Often            6-25   ...      \n",
      "1             No        No         Rarely  More than 1000   ...      \n",
      "2             No        No         Rarely            6-25   ...      \n",
      "3            Yes       Yes          Often          26-100   ...      \n",
      "4             No        No          Never         100-500   ...      \n",
      "\n",
      "                leave mental_health_consequence phys_health_consequence  \\\n",
      "0       Somewhat easy                        No                      No   \n",
      "1          Don't know                     Maybe                      No   \n",
      "2  Somewhat difficult                        No                      No   \n",
      "3  Somewhat difficult                       Yes                     Yes   \n",
      "4          Don't know                        No                      No   \n",
      "\n",
      "      coworkers supervisor mental_health_interview phys_health_interview  \\\n",
      "0  Some of them        Yes                      No                 Maybe   \n",
      "1            No         No                      No                    No   \n",
      "2           Yes        Yes                     Yes                   Yes   \n",
      "3  Some of them         No                   Maybe                 Maybe   \n",
      "4  Some of them        Yes                     Yes                   Yes   \n",
      "\n",
      "  mental_vs_physical obs_consequence comments  \n",
      "0                Yes              No      NaN  \n",
      "1         Don't know              No      NaN  \n",
      "2                 No              No      NaN  \n",
      "3                 No             Yes      NaN  \n",
      "4         Don't know              No      NaN  \n",
      "\n",
      "[5 rows x 27 columns]\n"
     ]
    }
   ],
   "source": [
    "import numpy as np\n",
    "import pandas as pd\n",
    "import matplotlib.pyplot as plt\n",
    "import seaborn as sns\n",
    "%matplotlib inline\n",
    "\n",
    "df = pd.read_csv('survey.csv')\n",
    "print(df.head())"
   ]
  },
  {
   "cell_type": "code",
   "execution_count": 52,
   "metadata": {},
   "outputs": [],
   "source": [
    "df_age = df.loc[\n",
    "    (df['treatment'] == 'Yes') | (df['treatment'] == 'No'), ['Age', 'treatment']]\n"
   ]
  },
  {
   "cell_type": "code",
   "execution_count": 53,
   "metadata": {},
   "outputs": [
    {
     "data": {
      "text/html": [
       "<div>\n",
       "<style>\n",
       "    .dataframe thead tr:only-child th {\n",
       "        text-align: right;\n",
       "    }\n",
       "\n",
       "    .dataframe thead th {\n",
       "        text-align: left;\n",
       "    }\n",
       "\n",
       "    .dataframe tbody tr th {\n",
       "        vertical-align: top;\n",
       "    }\n",
       "</style>\n",
       "<table border=\"1\" class=\"dataframe\">\n",
       "  <thead>\n",
       "    <tr style=\"text-align: right;\">\n",
       "      <th></th>\n",
       "      <th>Age</th>\n",
       "      <th>treatment</th>\n",
       "    </tr>\n",
       "  </thead>\n",
       "  <tbody>\n",
       "    <tr>\n",
       "      <th>0</th>\n",
       "      <td>37</td>\n",
       "      <td>Yes</td>\n",
       "    </tr>\n",
       "    <tr>\n",
       "      <th>1</th>\n",
       "      <td>44</td>\n",
       "      <td>No</td>\n",
       "    </tr>\n",
       "    <tr>\n",
       "      <th>2</th>\n",
       "      <td>32</td>\n",
       "      <td>No</td>\n",
       "    </tr>\n",
       "    <tr>\n",
       "      <th>3</th>\n",
       "      <td>31</td>\n",
       "      <td>Yes</td>\n",
       "    </tr>\n",
       "    <tr>\n",
       "      <th>4</th>\n",
       "      <td>31</td>\n",
       "      <td>No</td>\n",
       "    </tr>\n",
       "    <tr>\n",
       "      <th>5</th>\n",
       "      <td>33</td>\n",
       "      <td>No</td>\n",
       "    </tr>\n",
       "    <tr>\n",
       "      <th>6</th>\n",
       "      <td>35</td>\n",
       "      <td>Yes</td>\n",
       "    </tr>\n",
       "    <tr>\n",
       "      <th>7</th>\n",
       "      <td>39</td>\n",
       "      <td>No</td>\n",
       "    </tr>\n",
       "    <tr>\n",
       "      <th>8</th>\n",
       "      <td>42</td>\n",
       "      <td>Yes</td>\n",
       "    </tr>\n",
       "    <tr>\n",
       "      <th>9</th>\n",
       "      <td>23</td>\n",
       "      <td>No</td>\n",
       "    </tr>\n",
       "    <tr>\n",
       "      <th>10</th>\n",
       "      <td>31</td>\n",
       "      <td>Yes</td>\n",
       "    </tr>\n",
       "    <tr>\n",
       "      <th>11</th>\n",
       "      <td>29</td>\n",
       "      <td>No</td>\n",
       "    </tr>\n",
       "    <tr>\n",
       "      <th>12</th>\n",
       "      <td>42</td>\n",
       "      <td>Yes</td>\n",
       "    </tr>\n",
       "    <tr>\n",
       "      <th>13</th>\n",
       "      <td>36</td>\n",
       "      <td>No</td>\n",
       "    </tr>\n",
       "    <tr>\n",
       "      <th>14</th>\n",
       "      <td>27</td>\n",
       "      <td>No</td>\n",
       "    </tr>\n",
       "    <tr>\n",
       "      <th>15</th>\n",
       "      <td>29</td>\n",
       "      <td>Yes</td>\n",
       "    </tr>\n",
       "    <tr>\n",
       "      <th>16</th>\n",
       "      <td>23</td>\n",
       "      <td>Yes</td>\n",
       "    </tr>\n",
       "    <tr>\n",
       "      <th>17</th>\n",
       "      <td>32</td>\n",
       "      <td>Yes</td>\n",
       "    </tr>\n",
       "    <tr>\n",
       "      <th>18</th>\n",
       "      <td>46</td>\n",
       "      <td>No</td>\n",
       "    </tr>\n",
       "    <tr>\n",
       "      <th>19</th>\n",
       "      <td>36</td>\n",
       "      <td>No</td>\n",
       "    </tr>\n",
       "    <tr>\n",
       "      <th>20</th>\n",
       "      <td>29</td>\n",
       "      <td>Yes</td>\n",
       "    </tr>\n",
       "    <tr>\n",
       "      <th>21</th>\n",
       "      <td>31</td>\n",
       "      <td>No</td>\n",
       "    </tr>\n",
       "    <tr>\n",
       "      <th>22</th>\n",
       "      <td>46</td>\n",
       "      <td>Yes</td>\n",
       "    </tr>\n",
       "    <tr>\n",
       "      <th>23</th>\n",
       "      <td>41</td>\n",
       "      <td>Yes</td>\n",
       "    </tr>\n",
       "    <tr>\n",
       "      <th>24</th>\n",
       "      <td>33</td>\n",
       "      <td>Yes</td>\n",
       "    </tr>\n",
       "    <tr>\n",
       "      <th>25</th>\n",
       "      <td>35</td>\n",
       "      <td>Yes</td>\n",
       "    </tr>\n",
       "    <tr>\n",
       "      <th>26</th>\n",
       "      <td>33</td>\n",
       "      <td>No</td>\n",
       "    </tr>\n",
       "    <tr>\n",
       "      <th>27</th>\n",
       "      <td>35</td>\n",
       "      <td>Yes</td>\n",
       "    </tr>\n",
       "    <tr>\n",
       "      <th>28</th>\n",
       "      <td>34</td>\n",
       "      <td>Yes</td>\n",
       "    </tr>\n",
       "    <tr>\n",
       "      <th>29</th>\n",
       "      <td>37</td>\n",
       "      <td>No</td>\n",
       "    </tr>\n",
       "    <tr>\n",
       "      <th>...</th>\n",
       "      <td>...</td>\n",
       "      <td>...</td>\n",
       "    </tr>\n",
       "    <tr>\n",
       "      <th>1229</th>\n",
       "      <td>39</td>\n",
       "      <td>No</td>\n",
       "    </tr>\n",
       "    <tr>\n",
       "      <th>1230</th>\n",
       "      <td>23</td>\n",
       "      <td>Yes</td>\n",
       "    </tr>\n",
       "    <tr>\n",
       "      <th>1231</th>\n",
       "      <td>24</td>\n",
       "      <td>Yes</td>\n",
       "    </tr>\n",
       "    <tr>\n",
       "      <th>1232</th>\n",
       "      <td>25</td>\n",
       "      <td>Yes</td>\n",
       "    </tr>\n",
       "    <tr>\n",
       "      <th>1233</th>\n",
       "      <td>23</td>\n",
       "      <td>Yes</td>\n",
       "    </tr>\n",
       "    <tr>\n",
       "      <th>1234</th>\n",
       "      <td>24</td>\n",
       "      <td>Yes</td>\n",
       "    </tr>\n",
       "    <tr>\n",
       "      <th>1235</th>\n",
       "      <td>23</td>\n",
       "      <td>Yes</td>\n",
       "    </tr>\n",
       "    <tr>\n",
       "      <th>1236</th>\n",
       "      <td>60</td>\n",
       "      <td>Yes</td>\n",
       "    </tr>\n",
       "    <tr>\n",
       "      <th>1237</th>\n",
       "      <td>28</td>\n",
       "      <td>No</td>\n",
       "    </tr>\n",
       "    <tr>\n",
       "      <th>1238</th>\n",
       "      <td>28</td>\n",
       "      <td>Yes</td>\n",
       "    </tr>\n",
       "    <tr>\n",
       "      <th>1239</th>\n",
       "      <td>30</td>\n",
       "      <td>No</td>\n",
       "    </tr>\n",
       "    <tr>\n",
       "      <th>1240</th>\n",
       "      <td>31</td>\n",
       "      <td>Yes</td>\n",
       "    </tr>\n",
       "    <tr>\n",
       "      <th>1241</th>\n",
       "      <td>31</td>\n",
       "      <td>Yes</td>\n",
       "    </tr>\n",
       "    <tr>\n",
       "      <th>1242</th>\n",
       "      <td>28</td>\n",
       "      <td>Yes</td>\n",
       "    </tr>\n",
       "    <tr>\n",
       "      <th>1243</th>\n",
       "      <td>43</td>\n",
       "      <td>Yes</td>\n",
       "    </tr>\n",
       "    <tr>\n",
       "      <th>1244</th>\n",
       "      <td>32</td>\n",
       "      <td>No</td>\n",
       "    </tr>\n",
       "    <tr>\n",
       "      <th>1245</th>\n",
       "      <td>22</td>\n",
       "      <td>Yes</td>\n",
       "    </tr>\n",
       "    <tr>\n",
       "      <th>1246</th>\n",
       "      <td>32</td>\n",
       "      <td>No</td>\n",
       "    </tr>\n",
       "    <tr>\n",
       "      <th>1247</th>\n",
       "      <td>36</td>\n",
       "      <td>Yes</td>\n",
       "    </tr>\n",
       "    <tr>\n",
       "      <th>1248</th>\n",
       "      <td>41</td>\n",
       "      <td>Yes</td>\n",
       "    </tr>\n",
       "    <tr>\n",
       "      <th>1249</th>\n",
       "      <td>30</td>\n",
       "      <td>Yes</td>\n",
       "    </tr>\n",
       "    <tr>\n",
       "      <th>1250</th>\n",
       "      <td>30</td>\n",
       "      <td>Yes</td>\n",
       "    </tr>\n",
       "    <tr>\n",
       "      <th>1251</th>\n",
       "      <td>36</td>\n",
       "      <td>Yes</td>\n",
       "    </tr>\n",
       "    <tr>\n",
       "      <th>1252</th>\n",
       "      <td>29</td>\n",
       "      <td>Yes</td>\n",
       "    </tr>\n",
       "    <tr>\n",
       "      <th>1253</th>\n",
       "      <td>36</td>\n",
       "      <td>No</td>\n",
       "    </tr>\n",
       "    <tr>\n",
       "      <th>1254</th>\n",
       "      <td>26</td>\n",
       "      <td>Yes</td>\n",
       "    </tr>\n",
       "    <tr>\n",
       "      <th>1255</th>\n",
       "      <td>32</td>\n",
       "      <td>Yes</td>\n",
       "    </tr>\n",
       "    <tr>\n",
       "      <th>1256</th>\n",
       "      <td>34</td>\n",
       "      <td>Yes</td>\n",
       "    </tr>\n",
       "    <tr>\n",
       "      <th>1257</th>\n",
       "      <td>46</td>\n",
       "      <td>No</td>\n",
       "    </tr>\n",
       "    <tr>\n",
       "      <th>1258</th>\n",
       "      <td>25</td>\n",
       "      <td>Yes</td>\n",
       "    </tr>\n",
       "  </tbody>\n",
       "</table>\n",
       "<p>1259 rows × 2 columns</p>\n",
       "</div>"
      ],
      "text/plain": [
       "      Age treatment\n",
       "0      37       Yes\n",
       "1      44        No\n",
       "2      32        No\n",
       "3      31       Yes\n",
       "4      31        No\n",
       "5      33        No\n",
       "6      35       Yes\n",
       "7      39        No\n",
       "8      42       Yes\n",
       "9      23        No\n",
       "10     31       Yes\n",
       "11     29        No\n",
       "12     42       Yes\n",
       "13     36        No\n",
       "14     27        No\n",
       "15     29       Yes\n",
       "16     23       Yes\n",
       "17     32       Yes\n",
       "18     46        No\n",
       "19     36        No\n",
       "20     29       Yes\n",
       "21     31        No\n",
       "22     46       Yes\n",
       "23     41       Yes\n",
       "24     33       Yes\n",
       "25     35       Yes\n",
       "26     33        No\n",
       "27     35       Yes\n",
       "28     34       Yes\n",
       "29     37        No\n",
       "...   ...       ...\n",
       "1229   39        No\n",
       "1230   23       Yes\n",
       "1231   24       Yes\n",
       "1232   25       Yes\n",
       "1233   23       Yes\n",
       "1234   24       Yes\n",
       "1235   23       Yes\n",
       "1236   60       Yes\n",
       "1237   28        No\n",
       "1238   28       Yes\n",
       "1239   30        No\n",
       "1240   31       Yes\n",
       "1241   31       Yes\n",
       "1242   28       Yes\n",
       "1243   43       Yes\n",
       "1244   32        No\n",
       "1245   22       Yes\n",
       "1246   32        No\n",
       "1247   36       Yes\n",
       "1248   41       Yes\n",
       "1249   30       Yes\n",
       "1250   30       Yes\n",
       "1251   36       Yes\n",
       "1252   29       Yes\n",
       "1253   36        No\n",
       "1254   26       Yes\n",
       "1255   32       Yes\n",
       "1256   34       Yes\n",
       "1257   46        No\n",
       "1258   25       Yes\n",
       "\n",
       "[1259 rows x 2 columns]"
      ]
     },
     "execution_count": 53,
     "metadata": {},
     "output_type": "execute_result"
    }
   ],
   "source": [
    "df_age"
   ]
  },
  {
   "cell_type": "code",
   "execution_count": 54,
   "metadata": {},
   "outputs": [],
   "source": [
    "df_age1= df_age\n",
    "df_age1 = pd.melt(df_age, id_vars=['treatment'])\n"
   ]
  },
  {
   "cell_type": "code",
   "execution_count": 55,
   "metadata": {},
   "outputs": [
    {
     "name": "stdout",
     "output_type": "stream",
     "text": [
      "     treatment variable  value\n",
      "0          Yes      Age     37\n",
      "1           No      Age     44\n",
      "2           No      Age     32\n",
      "3          Yes      Age     31\n",
      "4           No      Age     31\n",
      "5           No      Age     33\n",
      "6          Yes      Age     35\n",
      "7           No      Age     39\n",
      "8          Yes      Age     42\n",
      "9           No      Age     23\n",
      "10         Yes      Age     31\n",
      "11          No      Age     29\n",
      "12         Yes      Age     42\n",
      "13          No      Age     36\n",
      "14          No      Age     27\n",
      "15         Yes      Age     29\n",
      "16         Yes      Age     23\n",
      "17         Yes      Age     32\n",
      "18          No      Age     46\n",
      "19          No      Age     36\n",
      "20         Yes      Age     29\n",
      "21          No      Age     31\n",
      "22         Yes      Age     46\n",
      "23         Yes      Age     41\n",
      "24         Yes      Age     33\n",
      "25         Yes      Age     35\n",
      "26          No      Age     33\n",
      "27         Yes      Age     35\n",
      "28         Yes      Age     34\n",
      "29          No      Age     37\n",
      "...        ...      ...    ...\n",
      "1229        No      Age     39\n",
      "1230       Yes      Age     23\n",
      "1231       Yes      Age     24\n",
      "1232       Yes      Age     25\n",
      "1233       Yes      Age     23\n",
      "1234       Yes      Age     24\n",
      "1235       Yes      Age     23\n",
      "1236       Yes      Age     60\n",
      "1237        No      Age     28\n",
      "1238       Yes      Age     28\n",
      "1239        No      Age     30\n",
      "1240       Yes      Age     31\n",
      "1241       Yes      Age     31\n",
      "1242       Yes      Age     28\n",
      "1243       Yes      Age     43\n",
      "1244        No      Age     32\n",
      "1245       Yes      Age     22\n",
      "1246        No      Age     32\n",
      "1247       Yes      Age     36\n",
      "1248       Yes      Age     41\n",
      "1249       Yes      Age     30\n",
      "1250       Yes      Age     30\n",
      "1251       Yes      Age     36\n",
      "1252       Yes      Age     29\n",
      "1253        No      Age     36\n",
      "1254       Yes      Age     26\n",
      "1255       Yes      Age     32\n",
      "1256       Yes      Age     34\n",
      "1257        No      Age     46\n",
      "1258       Yes      Age     25\n",
      "\n",
      "[1259 rows x 3 columns]\n"
     ]
    }
   ],
   "source": [
    "print(df_age1)"
   ]
  },
  {
   "cell_type": "code",
   "execution_count": 66,
   "metadata": {},
   "outputs": [
    {
     "data": {
      "image/png": "[encoded data removed]",
      "text/plain": [
       "<matplotlib.figure.Figure at 0x26db6e588>"
      ]
     },
     "metadata": {},
     "output_type": "display_data"
    }
   ],
   "source": [
    "g = sns.FacetGrid(df_age1, col=\"variable\", size=6, aspect=.5)\n",
    "g = g.map(sns.boxplot, \"treatment\", \"value\")\n",
    "plt.ylim(10, 80)\n",
    "plt.show()"
   ]
  },
  {
   "cell_type": "code",
   "execution_count": 122,
   "metadata": {},
   "outputs": [],
   "source": [
    "df['employee_bins']=df.no_employees.apply(lambda x: 1 if x== '1-5'else(2 if x=='6-25' else (3 if x =='26-100' else( 4 if x=='100-500' else (5 if x == '500-1000' else 6)))))"
   ]
  },
  {
   "cell_type": "code",
   "execution_count": 168,
   "metadata": {},
   "outputs": [
    {
     "name": "stdout",
     "output_type": "stream",
     "text": [
      "      employee_bins  Age\n",
      "0                 2   37\n",
      "1                 6   44\n",
      "2                 2   32\n",
      "3                 3   31\n",
      "4                 4   31\n",
      "5                 2   33\n",
      "6                 1   35\n",
      "7                 1   39\n",
      "8                 4   42\n",
      "9                 3   23\n",
      "10                2   31\n",
      "11                4   29\n",
      "12                3   42\n",
      "13                5   36\n",
      "14                2   27\n",
      "15                3   29\n",
      "16                3   23\n",
      "17                2   32\n",
      "18                1   46\n",
      "19                2   36\n",
      "20                4   29\n",
      "21                1   31\n",
      "22                3   46\n",
      "23                6   41\n",
      "24                3   33\n",
      "25                6   35\n",
      "26                1   33\n",
      "27                2   35\n",
      "28                3   34\n",
      "29                2   37\n",
      "...             ...  ...\n",
      "1229              2   39\n",
      "1230              2   23\n",
      "1231              2   24\n",
      "1232              6   25\n",
      "1233              2   23\n",
      "1234              2   24\n",
      "1235              3   23\n",
      "1236              6   60\n",
      "1237              3   28\n",
      "1238              6   28\n",
      "1239              5   30\n",
      "1240              4   31\n",
      "1241              2   31\n",
      "1242              3   28\n",
      "1243              6   43\n",
      "1244              6   32\n",
      "1245              4   22\n",
      "1246              4   32\n",
      "1247              2   36\n",
      "1248              3   41\n",
      "1249              3   30\n",
      "1250              3   30\n",
      "1251              4   36\n",
      "1252              4   29\n",
      "1253              6   36\n",
      "1254              3   26\n",
      "1255              3   32\n",
      "1256              6   34\n",
      "1257              4   46\n",
      "1258              3   25\n",
      "\n",
      "[1259 rows x 2 columns]\n"
     ]
    }
   ],
   "source": [
    "age_employees = pd.concat([df['employee_bins'], df['Age']], axis=1)\n",
    "print(age_employees)"
   ]
  },
  {
   "cell_type": "code",
   "execution_count": 126,
   "metadata": {},
   "outputs": [],
   "source": [
    "jitter = pd.DataFrame(\n",
    "    np.random.uniform(-.3, .3, size=(age_employees.shape)),\n",
    "    columns=age_employees.columns)"
   ]
  },
  {
   "cell_type": "code",
   "execution_count": 129,
   "metadata": {},
   "outputs": [],
   "source": [
    "df_employees = age_employees.add(jitter)"
   ]
  },
  {
   "cell_type": "code",
   "execution_count": 170,
   "metadata": {},
   "outputs": [],
   "source": [
    "df_employees=df_employees[df_employees.Age<100] #the problem is in outliers age has some >1000 years old!"
   ]
  },
  {
   "cell_type": "code",
   "execution_count": 171,
   "metadata": {},
   "outputs": [
    {
     "name": "stderr",
     "output_type": "stream",
     "text": [
      "C:\\Users\\Connor\\Anaconda3\\lib\\site-packages\\matplotlib\\axes\\_axes.py:545: UserWarning: No labelled objects found. Use label='...' kwarg on individual plots.\n",
      "  warnings.warn(\"No labelled objects found. \"\n"
     ]
    },
    {
     "data": {
      "image/png": "[encoded data removed]",
      "text/plain": [
       "<matplotlib.figure.Figure at 0x26ec148d0>"
      ]
     },
     "metadata": {},
     "output_type": "display_data"
    }
   ],
   "source": [
    "g = sns.PairGrid(df_employees.dropna(), diag_sharey=False)\n",
    "g.map_upper(plt.scatter, alpha=.5)\n",
    "g.map_lower(sns.regplot, scatter_kws=dict(alpha=0))\n",
    "g.map_diag(sns.kdeplot, lw=3)\n",
    "#plt.xlim(10, 80)\n",
    "g.axes[1,0].set_ylim(0,70)\n",
    "#g.axes[1,1].set_ylim(0,10000000)\n",
    "g.axes[1,1].set_xlim(0,70)\n",
    "plt.show()"
   ]
  },
  {
   "cell_type": "code",
   "execution_count": 143,
   "metadata": {},
   "outputs": [
    {
     "name": "stdout",
     "output_type": "stream",
     "text": [
      "               employee_bins       Age\n",
      "employee_bins       1.000000 -0.042702\n",
      "Age                -0.042702  1.000000\n"
     ]
    }
   ],
   "source": [
    "corrmat = df_employees.corr()\n",
    "print(corrmat)"
   ]
  },
  {
   "cell_type": "code",
   "execution_count": 147,
   "metadata": {},
   "outputs": [
    {
     "data": {
      "image/png": "[encoded data removed]",
      "text/plain": [
       "<matplotlib.figure.Figure at 0x26eb92978>"
      ]
     },
     "metadata": {},
     "output_type": "display_data"
    }
   ],
   "source": [
    "f, ax = plt.subplots(figsize=(12, 9))\n",
    "sns.heatmap(corrmat, vmax=.8, square=True)\n",
    "plt.show()"
   ]
  },
  {
   "cell_type": "code",
   "execution_count": 151,
   "metadata": {
    "collapsed": true
   },
   "outputs": [],
   "source": [
    "df['female'] = df.Gender.apply(lambda x: 1 if x.lower()[0] =='f'  else 0 )\n",
    "#Many respondents would put F or f or female for gender. This will classify all these responses as females.\n",
    "df_gender = df.loc[\n",
    "    (df['treatment'] == 'Yes') | (df['treatment'] == 'No'), ['female', 'treatment']]\n"
   ]
  },
  {
   "cell_type": "code",
   "execution_count": 153,
   "metadata": {},
   "outputs": [
    {
     "name": "stdout",
     "output_type": "stream",
     "text": [
      "treatment   No  Yes\n",
      "female             \n",
      "0          547  468\n",
      "1           75  169\n"
     ]
    }
   ],
   "source": [
    "counttable = pd.crosstab(df_gender['female'], df_gender['treatment'])\n",
    "print(counttable)"
   ]
  },
  {
   "cell_type": "code",
   "execution_count": 155,
   "metadata": {},
   "outputs": [
    {
     "data": {
      "image/png": "[encoded data removed]",
      "text/plain": [
       "<matplotlib.figure.Figure at 0x26df00390>"
      ]
     },
     "metadata": {},
     "output_type": "display_data"
    }
   ],
   "source": [
    "sns.countplot(y=\"female\", hue=\"treatment\", data=df_gender, palette=\"Greens_d\")\n",
    "plt.show()"
   ]
  },
  {
   "cell_type": "code",
   "execution_count": 172,
   "metadata": {
    "collapsed": true
   },
   "outputs": [],
   "source": [
    "def age_bins(age):\n",
    "    \n",
    "    if age<20:\n",
    "        res=2\n",
    "    elif age<30:\n",
    "        res=3\n",
    "    elif age<40:\n",
    "        res= 4\n",
    "    elif age<50:\n",
    "        res=5 \n",
    "    elif age<60:\n",
    "        res=6 \n",
    "    else:\n",
    "        res=7\n",
    "    return res     "
   ]
  },
  {
   "cell_type": "code",
   "execution_count": 173,
   "metadata": {
    "collapsed": true
   },
   "outputs": [],
   "source": [
    "df['age_bins']=df.Age.apply(lambda x: age_bins(x))"
   ]
  },
  {
   "cell_type": "code",
   "execution_count": 174,
   "metadata": {
    "collapsed": true
   },
   "outputs": [],
   "source": [
    "age_employees1 =df[['employee_bins', 'Age','age_bins', 'treatment']]"
   ]
  },
  {
   "cell_type": "code",
   "execution_count": 175,
   "metadata": {},
   "outputs": [
    {
     "data": {
      "image/png": "[encoded data removed]",
      "text/plain": [
       "<matplotlib.figure.Figure at 0x26dba8588>"
      ]
     },
     "metadata": {},
     "output_type": "display_data"
    }
   ],
   "source": [
    "sns.violinplot(x=\"age_bins\", y=\"employee_bins\",  hue='treatment', data=age_employees1,\n",
    "               split=True, inner=\"stick\", palette=\"Set3\");"
   ]
  },
  {
   "cell_type": "code",
   "execution_count": 176,
   "metadata": {},
   "outputs": [
    {
     "data": {
      "text/plain": [
       "<seaborn.axisgrid.FacetGrid at 0x270046390>"
      ]
     },
     "execution_count": 176,
     "metadata": {},
     "output_type": "execute_result"
    },
    {
     "data": {
      "image/png": "[encoded data removed]",
      "text/plain": [
       "<matplotlib.figure.Figure at 0x2700466a0>"
      ]
     },
     "metadata": {},
     "output_type": "display_data"
    }
   ],
   "source": [
    "g = sns.FacetGrid(age_employees1, col=\"age_bins\")\n",
    "g.map(plt.hist, \"employee_bins\")"
   ]
  },
  {
   "cell_type": "markdown",
   "metadata": {},
   "source": [
    "Feature Selection"
   ]
  },
  {
   "cell_type": "markdown",
   "metadata": {},
   "source": [
    "Feature 1: Age + employee bin. Our two continuous features in the data set which need to be selected.\n",
    "Feature 2: Gender + treatment. A test of gender vs treatment is important information for those both in and out of work force.\n",
    "Feature 3: Employee bin + treatment. A test of whether larger companies experience more or less treatment. \n",
    "Feature 4: Age + treatment. A test of age vs treatment again is important for those both in and out of work force.\n",
    "Feature 5: Country + treatment. A test of treatment in certain jobs to tell whether treatment is more prevalent in certain countries.\n",
    "\n",
    "I chose these 5 features rather than the 10 requested because I feel the other catergorical variables would not work well for the model and vary too frequently from company to company. By looking at these fvie variables which we were able to explore for the most part above we are able to determine on our most general level would leads to employee treatment. The reasons for picking the 5 can be seen in the data above.\n",
    "\n",
    "\n"
   ]
  }
 ],
 "metadata": {
  "kernelspec": {
   "display_name": "Python 3",
   "language": "python",
   "name": "python3"
  },
  "language_info": {
   "codemirror_mode": {
    "name": "ipython",
    "version": 3
   },
   "file_extension": ".py",
   "mimetype": "text/x-python",
   "name": "python",
   "nbconvert_exporter": "python",
   "pygments_lexer": "ipython3",
   "version": "3.6.1"
  }
 },
 "nbformat": 4,
 "nbformat_minor": 2
}
